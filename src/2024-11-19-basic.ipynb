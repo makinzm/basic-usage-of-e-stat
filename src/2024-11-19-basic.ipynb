{
 "cells": [
  {
   "cell_type": "markdown",
   "metadata": {},
   "source": [
    "# Basic Statistic\n",
    "\n",
    "[利用規約 | 政府統計の総合窓口](https://www.e-stat.go.jp/terms-of-use) に従い、データを利用します。\n",
    "\n",
    "今回は、[小売物価統計調査 小売物価統計調査（動向編）主要品目の都市別小売価格－都道府県庁所在市及び人口15万以上の市(2000年1月～) | 統計表・グラフ表示 | 政府統計の総合窓口](https://www.e-stat.go.jp/dbview?sid=0003421913)のデータを加工して分析を行います。\n",
    "\n",
    "出典：政府統計の総合窓口(e-Stat)（https://www.e-stat.go.jp/）"
   ]
  },
  {
   "cell_type": "markdown",
   "metadata": {},
   "source": [
    "# 目的\n",
    "\n",
    "e-statのデータを初めて利用するため、データの読み込みから基本的な統計処理を行うことを目的とします。"
   ]
  },
  {
   "cell_type": "markdown",
   "metadata": {},
   "source": [
    "# データ準備方法\n",
    "\n",
    "1. 表示項目選択から、銘柄を選択し、「ブロッコリー」以外の選択を解除し、確定\n",
    "\n",
    "---\n",
    "\n",
    "## ダウンロードを行う際\n",
    "\n",
    "1. ファイル形式は「CSV形式(列指向形式・Shift-JIS)」\n",
    "2. ヘッダの出力 は「なし」"
   ]
  },
  {
   "cell_type": "code",
   "execution_count": 1,
   "metadata": {},
   "outputs": [],
   "source": [
    "import traceback\n",
    "\n",
    "import polars as pl\n",
    "import pandas as pd\n",
    "import tqdm as notebook_tqdm\n",
    "\n",
    "from ydata_profiling import ProfileReport\n",
    "import matplotlib.pyplot as plt\n",
    "import japanize_matplotlib"
   ]
  },
  {
   "cell_type": "code",
   "execution_count": 2,
   "metadata": {},
   "outputs": [],
   "source": [
    "DATA_PATH=\"../datasets/FEH_00200571_241119204010.csv\"\n",
    "\n",
    "try:\n",
    "    df = pd.read_csv(DATA_PATH, encoding=\"shift_jis\")\n",
    "except Exception as e:\n",
    "    traceback.print_exc()"
   ]
  },
  {
   "cell_type": "code",
   "execution_count": 3,
   "metadata": {},
   "outputs": [
    {
     "data": {
      "text/html": [
       "<div>\n",
       "<style scoped>\n",
       "    .dataframe tbody tr th:only-of-type {\n",
       "        vertical-align: middle;\n",
       "    }\n",
       "\n",
       "    .dataframe tbody tr th {\n",
       "        vertical-align: top;\n",
       "    }\n",
       "\n",
       "    .dataframe thead th {\n",
       "        text-align: right;\n",
       "    }\n",
       "</style>\n",
       "<table border=\"1\" class=\"dataframe\">\n",
       "  <thead>\n",
       "    <tr style=\"text-align: right;\">\n",
       "      <th></th>\n",
       "      <th>tab_code</th>\n",
       "      <th>表章項目</th>\n",
       "      <th>cat01_code</th>\n",
       "      <th>データの種別</th>\n",
       "      <th>cat02_code</th>\n",
       "      <th>銘柄</th>\n",
       "      <th>area_code</th>\n",
       "      <th>地域</th>\n",
       "      <th>time_code</th>\n",
       "      <th>時間軸（月）</th>\n",
       "      <th>unit</th>\n",
       "      <th>value</th>\n",
       "    </tr>\n",
       "  </thead>\n",
       "  <tbody>\n",
       "    <tr>\n",
       "      <th>0</th>\n",
       "      <td>10</td>\n",
       "      <td>価格</td>\n",
       "      <td>20</td>\n",
       "      <td>価格</td>\n",
       "      <td>1409</td>\n",
       "      <td>1409 ブロッコリー</td>\n",
       "      <td>1100</td>\n",
       "      <td>札幌市</td>\n",
       "      <td>2024000909</td>\n",
       "      <td>2024年9月</td>\n",
       "      <td>円</td>\n",
       "      <td>695</td>\n",
       "    </tr>\n",
       "    <tr>\n",
       "      <th>1</th>\n",
       "      <td>10</td>\n",
       "      <td>価格</td>\n",
       "      <td>20</td>\n",
       "      <td>価格</td>\n",
       "      <td>1409</td>\n",
       "      <td>1409 ブロッコリー</td>\n",
       "      <td>1100</td>\n",
       "      <td>札幌市</td>\n",
       "      <td>2024000808</td>\n",
       "      <td>2024年8月</td>\n",
       "      <td>円</td>\n",
       "      <td>567</td>\n",
       "    </tr>\n",
       "    <tr>\n",
       "      <th>2</th>\n",
       "      <td>10</td>\n",
       "      <td>価格</td>\n",
       "      <td>20</td>\n",
       "      <td>価格</td>\n",
       "      <td>1409</td>\n",
       "      <td>1409 ブロッコリー</td>\n",
       "      <td>1100</td>\n",
       "      <td>札幌市</td>\n",
       "      <td>2024000707</td>\n",
       "      <td>2024年7月</td>\n",
       "      <td>円</td>\n",
       "      <td>580</td>\n",
       "    </tr>\n",
       "    <tr>\n",
       "      <th>3</th>\n",
       "      <td>10</td>\n",
       "      <td>価格</td>\n",
       "      <td>20</td>\n",
       "      <td>価格</td>\n",
       "      <td>1409</td>\n",
       "      <td>1409 ブロッコリー</td>\n",
       "      <td>1100</td>\n",
       "      <td>札幌市</td>\n",
       "      <td>2024000606</td>\n",
       "      <td>2024年6月</td>\n",
       "      <td>円</td>\n",
       "      <td>875</td>\n",
       "    </tr>\n",
       "    <tr>\n",
       "      <th>4</th>\n",
       "      <td>10</td>\n",
       "      <td>価格</td>\n",
       "      <td>20</td>\n",
       "      <td>価格</td>\n",
       "      <td>1409</td>\n",
       "      <td>1409 ブロッコリー</td>\n",
       "      <td>1100</td>\n",
       "      <td>札幌市</td>\n",
       "      <td>2024000505</td>\n",
       "      <td>2024年5月</td>\n",
       "      <td>円</td>\n",
       "      <td>1014</td>\n",
       "    </tr>\n",
       "  </tbody>\n",
       "</table>\n",
       "</div>"
      ],
      "text/plain": [
       "   tab_code 表章項目  cat01_code データの種別  cat02_code           銘柄  area_code   地域  \\\n",
       "0        10   価格          20     価格        1409  1409 ブロッコリー       1100  札幌市   \n",
       "1        10   価格          20     価格        1409  1409 ブロッコリー       1100  札幌市   \n",
       "2        10   価格          20     価格        1409  1409 ブロッコリー       1100  札幌市   \n",
       "3        10   価格          20     価格        1409  1409 ブロッコリー       1100  札幌市   \n",
       "4        10   価格          20     価格        1409  1409 ブロッコリー       1100  札幌市   \n",
       "\n",
       "    time_code   時間軸（月） unit value  \n",
       "0  2024000909  2024年9月    円   695  \n",
       "1  2024000808  2024年8月    円   567  \n",
       "2  2024000707  2024年7月    円   580  \n",
       "3  2024000606  2024年6月    円   875  \n",
       "4  2024000505  2024年5月    円  1014  "
      ]
     },
     "execution_count": 3,
     "metadata": {},
     "output_type": "execute_result"
    }
   ],
   "source": [
    "df.head()"
   ]
  },
  {
   "cell_type": "code",
   "execution_count": 4,
   "metadata": {},
   "outputs": [
    {
     "name": "stdout",
     "output_type": "stream",
     "text": [
      "<class 'pandas.core.frame.DataFrame'>\n",
      "RangeIndex: 22905 entries, 0 to 22904\n",
      "Data columns (total 12 columns):\n",
      " #   Column      Non-Null Count  Dtype \n",
      "---  ------      --------------  ----- \n",
      " 0   tab_code    22905 non-null  int64 \n",
      " 1   表章項目        22905 non-null  object\n",
      " 2   cat01_code  22905 non-null  int64 \n",
      " 3   データの種別      22905 non-null  object\n",
      " 4   cat02_code  22905 non-null  int64 \n",
      " 5   銘柄          22905 non-null  object\n",
      " 6   area_code   22905 non-null  int64 \n",
      " 7   地域          22905 non-null  object\n",
      " 8   time_code   22905 non-null  int64 \n",
      " 9   時間軸（月）      22905 non-null  object\n",
      " 10  unit        22905 non-null  object\n",
      " 11  value       22905 non-null  object\n",
      "dtypes: int64(5), object(7)\n",
      "memory usage: 2.1+ MB\n"
     ]
    }
   ],
   "source": [
    "# Check types and nulls\n",
    "\n",
    "df.info()"
   ]
  },
  {
   "cell_type": "code",
   "execution_count": 5,
   "metadata": {},
   "outputs": [],
   "source": [
    "# convert `value` column to float\n",
    "def _convert_to_float(x):\n",
    "    try:\n",
    "        return float(x.replace(\",\", \"\"))\n",
    "    except:\n",
    "        return None\n",
    "\n",
    "df[\"value\"] = df[\"value\"].apply(\n",
    "    _convert_to_float\n",
    ")"
   ]
  },
  {
   "cell_type": "code",
   "execution_count": 6,
   "metadata": {},
   "outputs": [],
   "source": [
    "profile = ProfileReport(df, title=\"Pandas Profiling Report\")"
   ]
  },
  {
   "cell_type": "code",
   "execution_count": 7,
   "metadata": {},
   "outputs": [
    {
     "data": {
      "application/vnd.jupyter.widget-view+json": {
       "model_id": "c72ddf974b4d4cf39018a212f53ff36f",
       "version_major": 2,
       "version_minor": 0
      },
      "text/plain": [
       "Summarize dataset:   0%|          | 0/5 [00:00<?, ?it/s]"
      ]
     },
     "metadata": {},
     "output_type": "display_data"
    },
    {
     "data": {
      "application/vnd.jupyter.widget-view+json": {
       "model_id": "311a9ac0b3124e7f9e46ed9d22b84406",
       "version_major": 2,
       "version_minor": 0
      },
      "text/plain": [
       "Generate report structure:   0%|          | 0/1 [00:00<?, ?it/s]"
      ]
     },
     "metadata": {},
     "output_type": "display_data"
    },
    {
     "data": {
      "application/vnd.jupyter.widget-view+json": {
       "model_id": "3aabfebfd4b14f01ab9933c6c2963ead",
       "version_major": 2,
       "version_minor": 0
      },
      "text/plain": [
       "Render HTML:   0%|          | 0/1 [00:00<?, ?it/s]"
      ]
     },
     "metadata": {},
     "output_type": "display_data"
    },
    {
     "data": {
      "application/vnd.jupyter.widget-view+json": {
       "model_id": "b281de56a4254d25a5ae5b86cbc0ec43",
       "version_major": 2,
       "version_minor": 0
      },
      "text/plain": [
       "Export report to file:   0%|          | 0/1 [00:00<?, ?it/s]"
      ]
     },
     "metadata": {},
     "output_type": "display_data"
    }
   ],
   "source": [
    "# delete warning\n",
    "import warnings\n",
    "warnings.filterwarnings(\"ignore\")\n",
    "\n",
    "# save report to file\n",
    "profile.to_file(\"pandas_profiling_report.html\")"
   ]
  },
  {
   "cell_type": "code",
   "execution_count": 8,
   "metadata": {},
   "outputs": [
    {
     "name": "stdout",
     "output_type": "stream",
     "text": [
      "1. 札幌市: 297, 2. 函館市: 297, 3. 旭川市: 297, 4. 青森市: 297, 5. 盛岡市: 297, 6. 郡山市: 297, 7. 仙台市: 297, 8. 秋田市: 297, 9. 山形市: 297, 10. 水戸市: 297, \n",
      "11. 福島市: 297, 12. 前橋市: 297, 13. 宇都宮市: 297, 14. 佐倉市: 297, 15. 千葉市: 297, 16. 所沢市: 297, 17. 特別区部: 297, 18. 川口市: 297, 19. 松本市: 297, 20. 甲府市: 297, \n",
      "21. 長野市: 297, 22. 長岡市: 297, 23. 富山市: 297, 24. 金沢市: 297, 25. 横須賀市: 297, 26. 川崎市: 297, 27. 横浜市: 297, 28. 府中市: 297, 29. 立川市: 297, 30. 鹿児島市: 297, \n",
      "31. 佐世保市: 297, 32. 松山市: 297, 33. 高知市: 297, 34. 北九州市: 297, 35. 福岡市: 297, 36. 佐賀市: 297, 37. 長崎市: 297, 38. 那覇市: 297, 39. 大分市: 297, 40. 宮崎市: 297, \n",
      "41. 福井市: 297, 42. 津市: 297, 43. 大阪市: 297, 44. 名古屋市: 297, 45. 岐阜市: 297, 46. 大津市: 297, 47. 京都市: 297, 48. 宇部市: 297, 49. 山口市: 297, 50. 広島市: 297, \n",
      "51. 福山市: 297, 52. 松江市: 297, 53. 鳥取市: 297, 54. 和歌山市: 297, 55. 奈良市: 297, 56. 伊丹市: 297, 57. 西宮市: 297, 58. 姫路市: 297, 59. 神戸市: 297, 60. 東大阪市: 297, \n",
      "61. 枚方市: 297, 62. 高松市: 297, 63. 徳島市: 297, 64. さいたま市: 258, 65. 静岡市: 234, 66. 新潟市: 210, 67. 浜松市: 210, 68. 富士市: 189, 69. 日立市: 189, 70. 熊谷市: 189, \n",
      "71. 岡山市: 186, 72. 厚木市【2014年12月調査終了】: 180, 73. 松阪市: 177, 74. 今治市: 177, 75. 堺市: 177, 76. 八王子市: 177, 77. 浦安市: 177, 78. 熊本市: 150, 79. 熊本市【〜2012年３月】: 147, 80. 石巻市【2019年12月都市階級変更により掲載終了】: 132, \n",
      "81. 豊橋市【2019年12月調査終了】: 120, 82. 足利市【2019年12月調査終了】: 120, 83. 春日井市【2009年12月調査終了】: 120, 84. 相模原市: 117, 85. 岡山市【〜2009年３月】: 111, 86. 浜松市【〜2007年３月】: 87, 87. 新潟市【〜2007年３月】: 87, 88. 静岡市【〜2005年３月】: 63, 89. 八戸市: 57, 90. 小山市: 57, \n",
      "91. 岡崎市: 57, 92. さいたま市【2001年５月〜2003年３月】: 23, 93. 浦和市【〜2001年４月】: 16, "
     ]
    }
   ],
   "source": [
    "# countValues in 地域\n",
    "_count_value = df[\"地域\"].value_counts()\n",
    "_count = 0\n",
    "for key, value in _count_value.items():\n",
    "    print(f\"{_count+1}. {key}: {value}\", end=\", \")\n",
    "    _count += 1\n",
    "    if _count % 10 == 0:\n",
    "        print()"
   ]
  },
  {
   "cell_type": "code",
   "execution_count": 9,
   "metadata": {},
   "outputs": [],
   "source": [
    "# 地域ごとの価格を可視化（時系列についてグループ化して平均を取る）\n",
    "\n",
    "df_for_plot = df[[\"地域\", \"value\"]].groupby(\"地域\").mean()\n",
    "\n",
    "df_for_plot.plot(kind=\"bar\", figsize=(20, 10))\n",
    "\n",
    "plt.show()\n",
    "plt.savefig(\"price_by_area.png\")"
   ]
  },
  {
   "cell_type": "code",
   "execution_count": 10,
   "metadata": {},
   "outputs": [],
   "source": [
    "# 年代ごとの価格を可視化（時系列についてグループ化して平均を取る）\n",
    "\n",
    "df_for_plot = df[[\"時間軸（月）\", \"value\"]].groupby(\"時間軸（月）\").mean()\n",
    "\n",
    "df_for_plot.plot(kind=\"bar\", figsize=(20, 10))\n",
    "\n",
    "plt.show()\n",
    "plt.savefig(\"price_by_month.png\")"
   ]
  },
  {
   "cell_type": "code",
   "execution_count": 11,
   "metadata": {},
   "outputs": [],
   "source": [
    "# 年ごとに価格を可視化（時系列についてグループ化して平均を取る）\n",
    "\n",
    "df[\"Year\"] = df[\"時間軸（月）\"].apply(lambda x: x.split(\"年\")[0])\n",
    "\n",
    "df_for_plot = df[[\"Year\", \"value\"]].groupby(\"Year\").mean()\n",
    "\n",
    "df_for_plot.plot(kind=\"bar\", figsize=(20, 10))\n",
    "\n",
    "plt.show()\n",
    "plt.savefig(\"price_by_year.png\")"
   ]
  },
  {
   "cell_type": "markdown",
   "metadata": {},
   "source": [
    "# 仮説\n",
    "\n",
    "2016年のブロッコリーの価格は、2023年に比べて高いと考えられる。\n",
    "\n",
    "ー＞分布を確認してみる。"
   ]
  },
  {
   "cell_type": "code",
   "execution_count": 12,
   "metadata": {},
   "outputs": [],
   "source": [
    "df_2016_and_2023 = df[(df[\"Year\"] == \"2016\") | (df[\"Year\"] == \"2023\")]\n",
    "\n",
    "grouped_df = df_2016_and_2023.groupby([\"Year\"])[\"value\"]\n",
    "\n",
    "fig, ax = plt.subplots(figsize=(8, 6))\n",
    "\n",
    "# 年代ごとに分布を描画\n",
    "for label, values in grouped_df:\n",
    "    ax.hist(\n",
    "        values, \n",
    "        label=label,\n",
    "        alpha=0.5\n",
    "    )\n",
    "    \n",
    "fig.legend()\n",
    "plt.show()\n",
    "plt.savefig(\"price_by_2016_2023.png\")"
   ]
  },
  {
   "cell_type": "code",
   "execution_count": 13,
   "metadata": {},
   "outputs": [
    {
     "name": "stdout",
     "output_type": "stream",
     "text": [
      "マン・ホイットニーU検定: U統計量=211392.5, p値=1.0870554466564419e-21\n",
      "2016年と2023年で価格分布に有意差があります。\n",
      "KS検定: 統計量=0.3333333333333333, p値=3.8280155227812547e-28\n",
      "2016年と2023年で価格分布の形状に有意差があります。\n"
     ]
    }
   ],
   "source": [
    "# 2016年と2023年の価格分布に有意差があるかどうかを検定する\n",
    "\n",
    "from scipy.stats import mannwhitneyu, ks_2samp\n",
    "\n",
    "# 2016年と2023年のデータを抽出\n",
    "data_2016 = df[df[\"Year\"] == \"2016\"][\"value\"]\n",
    "data_2023 = df[df[\"Year\"] == \"2023\"][\"value\"]\n",
    "\n",
    "data_2016 = data_2016.dropna()\n",
    "data_2023 = data_2023.dropna()\n",
    "\n",
    "# マン・ホイットニーU検定\n",
    "u_stat, p_value_mw = mannwhitneyu(data_2016, data_2023, alternative=\"two-sided\")\n",
    "print(f\"マン・ホイットニーU検定: U統計量={u_stat}, p値={p_value_mw}\")\n",
    "\n",
    "if p_value_mw < 0.05:\n",
    "    print(\"2016年と2023年で価格分布に有意差があります。\")\n",
    "else:\n",
    "    print(\"2016年と2023年で価格分布に有意差はありません。\")\n",
    "\n",
    "# KS検定\n",
    "ks_stat, p_value_ks = ks_2samp(data_2016, data_2023)\n",
    "print(f\"KS検定: 統計量={ks_stat}, p値={p_value_ks}\")\n",
    "\n",
    "if p_value_ks < 0.05:\n",
    "    print(\"2016年と2023年で価格分布の形状に有意差があります。\")\n",
    "else:\n",
    "    print(\"2016年と2023年で価格分布の形状に有意差はありません。\")\n"
   ]
  },
  {
   "cell_type": "code",
   "execution_count": 14,
   "metadata": {},
   "outputs": [
    {
     "name": "stdout",
     "output_type": "stream",
     "text": [
      "2016年のシャピロ・ウィルク検定: 統計量=0.9628054020984665, p値=9.505421251409678e-11\n",
      "2023年のシャピロ・ウィルク検定: 統計量=0.9048472148197447, p値=2.8284306906105493e-18\n"
     ]
    }
   ],
   "source": [
    "# 正規性の検定\n",
    "from scipy.stats import shapiro\n",
    "\n",
    "# シャピロ・ウィルク検定\n",
    "stat_2016, p_2016 = shapiro(data_2016)\n",
    "stat_2023, p_2023 = shapiro(data_2023)\n",
    "print(f\"2016年のシャピロ・ウィルク検定: 統計量={stat_2016}, p値={p_2016}\")\n",
    "print(f\"2023年のシャピロ・ウィルク検定: 統計量={stat_2023}, p値={p_2023}\")\n",
    "\n",
    "\n",
    "from scipy import stats\n",
    "\n",
    "# Q-Qプロットの描画\n",
    "plt.figure(figsize=(12, 6))\n",
    "plt.subplot(1, 2, 1)\n",
    "stats.probplot(data_2016, dist=\"norm\", plot=plt)\n",
    "plt.title('2016年のQ-Qプロット')\n",
    "plt.subplot(1, 2, 2)\n",
    "stats.probplot(data_2023, dist=\"norm\", plot=plt)\n",
    "plt.title('2023年のQ-Qプロット')\n",
    "plt.show()\n",
    "plt.savefig(\"qqplot.png\")"
   ]
  }
 ],
 "metadata": {
  "kernelspec": {
   "display_name": ".venv",
   "language": "python",
   "name": "python3"
  },
  "language_info": {
   "codemirror_mode": {
    "name": "ipython",
    "version": 3
   },
   "file_extension": ".py",
   "mimetype": "text/x-python",
   "name": "python",
   "nbconvert_exporter": "python",
   "pygments_lexer": "ipython3",
   "version": "3.12.5"
  }
 },
 "nbformat": 4,
 "nbformat_minor": 2
}
