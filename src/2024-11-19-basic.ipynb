{
 "cells": [
  {
   "cell_type": "markdown",
   "metadata": {},
   "source": [
    "# Basic Statistic\n",
    "\n",
    "[利用規約 | 政府統計の総合窓口](https://www.e-stat.go.jp/terms-of-use) に従い、データを利用します。\n",
    "\n",
    "今回は、[小売物価統計調査 小売物価統計調査（動向編）主要品目の都市別小売価格－都道府県庁所在市及び人口15万以上の市(2000年1月～) | 統計表・グラフ表示 | 政府統計の総合窓口](https://www.e-stat.go.jp/dbview?sid=0003421913)のデータを加工して分析を行います。\n",
    "\n",
    "出典：政府統計の総合窓口(e-Stat)（https://www.e-stat.go.jp/）"
   ]
  },
  {
   "cell_type": "markdown",
   "metadata": {},
   "source": [
    "# 目的\n",
    "\n",
    "e-statのデータを初めて利用するため、データの読み込みから基本的な統計処理を行うことを目的とします。"
   ]
  },
  {
   "cell_type": "markdown",
   "metadata": {},
   "source": [
    "# データ準備方法\n",
    "\n",
    "1. 表示項目選択から、銘柄を選択し、「ブロッコリー」以外の選択を解除し、確定\n",
    "\n",
    "---\n",
    "\n",
    "## ダウンロードを行う際\n",
    "\n",
    "1. ファイル形式は「CSV形式(列指向形式・Shift-JIS)」\n",
    "2. ヘッダの出力 は「なし」"
   ]
  },
  {
   "cell_type": "code",
   "execution_count": 2,
   "metadata": {},
   "outputs": [],
   "source": [
    "import traceback\n",
    "\n",
    "import polars as pl\n",
    "import pandas as pd"
   ]
  },
  {
   "cell_type": "code",
   "execution_count": 12,
   "metadata": {},
   "outputs": [],
   "source": [
    "DATA_PATH=\"../datasets/FEH_00200571_241119204010.csv\"\n",
    "\n",
    "try:\n",
    "    df = pd.read_csv(DATA_PATH, encoding=\"shift_jis\")\n",
    "except Exception as e:\n",
    "    traceback.print_exc()"
   ]
  },
  {
   "cell_type": "code",
   "execution_count": 13,
   "metadata": {},
   "outputs": [
    {
     "data": {
      "text/html": [
       "<div>\n",
       "<style scoped>\n",
       "    .dataframe tbody tr th:only-of-type {\n",
       "        vertical-align: middle;\n",
       "    }\n",
       "\n",
       "    .dataframe tbody tr th {\n",
       "        vertical-align: top;\n",
       "    }\n",
       "\n",
       "    .dataframe thead th {\n",
       "        text-align: right;\n",
       "    }\n",
       "</style>\n",
       "<table border=\"1\" class=\"dataframe\">\n",
       "  <thead>\n",
       "    <tr style=\"text-align: right;\">\n",
       "      <th></th>\n",
       "      <th>tab_code</th>\n",
       "      <th>表章項目</th>\n",
       "      <th>cat01_code</th>\n",
       "      <th>データの種別</th>\n",
       "      <th>cat02_code</th>\n",
       "      <th>銘柄</th>\n",
       "      <th>area_code</th>\n",
       "      <th>地域</th>\n",
       "      <th>time_code</th>\n",
       "      <th>時間軸（月）</th>\n",
       "      <th>unit</th>\n",
       "      <th>value</th>\n",
       "    </tr>\n",
       "  </thead>\n",
       "  <tbody>\n",
       "    <tr>\n",
       "      <th>0</th>\n",
       "      <td>10</td>\n",
       "      <td>価格</td>\n",
       "      <td>20</td>\n",
       "      <td>価格</td>\n",
       "      <td>1409</td>\n",
       "      <td>1409 ブロッコリー</td>\n",
       "      <td>1100</td>\n",
       "      <td>札幌市</td>\n",
       "      <td>2024000909</td>\n",
       "      <td>2024年9月</td>\n",
       "      <td>円</td>\n",
       "      <td>695</td>\n",
       "    </tr>\n",
       "    <tr>\n",
       "      <th>1</th>\n",
       "      <td>10</td>\n",
       "      <td>価格</td>\n",
       "      <td>20</td>\n",
       "      <td>価格</td>\n",
       "      <td>1409</td>\n",
       "      <td>1409 ブロッコリー</td>\n",
       "      <td>1100</td>\n",
       "      <td>札幌市</td>\n",
       "      <td>2024000808</td>\n",
       "      <td>2024年8月</td>\n",
       "      <td>円</td>\n",
       "      <td>567</td>\n",
       "    </tr>\n",
       "    <tr>\n",
       "      <th>2</th>\n",
       "      <td>10</td>\n",
       "      <td>価格</td>\n",
       "      <td>20</td>\n",
       "      <td>価格</td>\n",
       "      <td>1409</td>\n",
       "      <td>1409 ブロッコリー</td>\n",
       "      <td>1100</td>\n",
       "      <td>札幌市</td>\n",
       "      <td>2024000707</td>\n",
       "      <td>2024年7月</td>\n",
       "      <td>円</td>\n",
       "      <td>580</td>\n",
       "    </tr>\n",
       "    <tr>\n",
       "      <th>3</th>\n",
       "      <td>10</td>\n",
       "      <td>価格</td>\n",
       "      <td>20</td>\n",
       "      <td>価格</td>\n",
       "      <td>1409</td>\n",
       "      <td>1409 ブロッコリー</td>\n",
       "      <td>1100</td>\n",
       "      <td>札幌市</td>\n",
       "      <td>2024000606</td>\n",
       "      <td>2024年6月</td>\n",
       "      <td>円</td>\n",
       "      <td>875</td>\n",
       "    </tr>\n",
       "    <tr>\n",
       "      <th>4</th>\n",
       "      <td>10</td>\n",
       "      <td>価格</td>\n",
       "      <td>20</td>\n",
       "      <td>価格</td>\n",
       "      <td>1409</td>\n",
       "      <td>1409 ブロッコリー</td>\n",
       "      <td>1100</td>\n",
       "      <td>札幌市</td>\n",
       "      <td>2024000505</td>\n",
       "      <td>2024年5月</td>\n",
       "      <td>円</td>\n",
       "      <td>1014</td>\n",
       "    </tr>\n",
       "  </tbody>\n",
       "</table>\n",
       "</div>"
      ],
      "text/plain": [
       "   tab_code 表章項目  cat01_code データの種別  cat02_code           銘柄  area_code   地域  \\\n",
       "0        10   価格          20     価格        1409  1409 ブロッコリー       1100  札幌市   \n",
       "1        10   価格          20     価格        1409  1409 ブロッコリー       1100  札幌市   \n",
       "2        10   価格          20     価格        1409  1409 ブロッコリー       1100  札幌市   \n",
       "3        10   価格          20     価格        1409  1409 ブロッコリー       1100  札幌市   \n",
       "4        10   価格          20     価格        1409  1409 ブロッコリー       1100  札幌市   \n",
       "\n",
       "    time_code   時間軸（月） unit value  \n",
       "0  2024000909  2024年9月    円   695  \n",
       "1  2024000808  2024年8月    円   567  \n",
       "2  2024000707  2024年7月    円   580  \n",
       "3  2024000606  2024年6月    円   875  \n",
       "4  2024000505  2024年5月    円  1014  "
      ]
     },
     "execution_count": 13,
     "metadata": {},
     "output_type": "execute_result"
    }
   ],
   "source": [
    "df.head()"
   ]
  },
  {
   "cell_type": "code",
   "execution_count": null,
   "metadata": {},
   "outputs": [],
   "source": []
  }
 ],
 "metadata": {
  "kernelspec": {
   "display_name": ".venv",
   "language": "python",
   "name": "python3"
  },
  "language_info": {
   "codemirror_mode": {
    "name": "ipython",
    "version": 3
   },
   "file_extension": ".py",
   "mimetype": "text/x-python",
   "name": "python",
   "nbconvert_exporter": "python",
   "pygments_lexer": "ipython3",
   "version": "3.12.5"
  }
 },
 "nbformat": 4,
 "nbformat_minor": 2
}
